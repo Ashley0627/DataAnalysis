{
 "cells": [
  {
   "cell_type": "code",
   "execution_count": 1,
   "metadata": {},
   "outputs": [],
   "source": [
    "import numpy as np\n",
    "\n",
    "import tensorflow as tf"
   ]
  },
  {
   "cell_type": "code",
   "execution_count": null,
   "metadata": {},
   "outputs": [],
   "source": []
  },
  {
   "cell_type": "code",
   "execution_count": 2,
   "metadata": {},
   "outputs": [
    {
     "data": {
      "text/plain": [
       "(1, 32, 32, 1)"
      ]
     },
     "execution_count": 2,
     "metadata": {},
     "output_type": "execute_result"
    }
   ],
   "source": [
    "input_data = np.random.randn(32,32).reshape(1,32,32,1)\n",
    "input_data.shape"
   ]
  },
  {
   "cell_type": "code",
   "execution_count": 3,
   "metadata": {},
   "outputs": [],
   "source": [
    "filter_ = np.random.randn(5,5,8).reshape(5,5,1,8)"
   ]
  },
  {
   "cell_type": "code",
   "execution_count": 7,
   "metadata": {},
   "outputs": [
    {
     "data": {
      "text/plain": [
       "<tf.Tensor 'dropout/mul:0' shape=(1, 14, 14, 8) dtype=float64>"
      ]
     },
     "execution_count": 7,
     "metadata": {},
     "output_type": "execute_result"
    }
   ],
   "source": [
    "# 第一层卷积\n",
    "conv = tf.nn.conv2d(input=input_data,filter=filter_,strides=[1,1,1,1],padding='VALID')\n",
    "\n",
    "# 池化\n",
    "pool = tf.nn.max_pool(conv,ksize = [1,2,2,1],strides=[1,2,2,1],padding = 'SAME')\n",
    "\n",
    "# 激活\n",
    "relu = tf.nn.relu(pool)\n",
    "\n",
    "# dropout\n",
    "dropout = tf.nn.dropout(relu,keep_prob=0.6)\n",
    "dropout\n"
   ]
  },
  {
   "cell_type": "code",
   "execution_count": 11,
   "metadata": {},
   "outputs": [
    {
     "data": {
      "text/plain": [
       "<tf.Tensor 'dropout_1/mul:0' shape=(1, 5, 5, 20) dtype=float64>"
      ]
     },
     "execution_count": 11,
     "metadata": {},
     "output_type": "execute_result"
    }
   ],
   "source": [
    "# 第二层卷积\n",
    "# 以第一层卷积的数据来进行修改的\n",
    "filter2 = np.random.randn(5,5,8,20)\n",
    "\n",
    "conv2 = tf.nn.conv2d(input=dropout,filter=filter2,strides=[1,1,1,1],padding='VALID')\n",
    "# 池化\n",
    "pool = tf.nn.max_pool(conv2,ksize=[1,2,2,1],strides=[1,2,2,1],padding='SAME')\n",
    "\n",
    "# 激活\n",
    "sigmoid = tf.nn.sigmoid(pool)\n",
    "\n",
    "# dropout \n",
    "dropout2 = tf.nn.dropout(pool,keep_prob=0.5)\n",
    "dropout2"
   ]
  },
  {
   "cell_type": "code",
   "execution_count": 13,
   "metadata": {},
   "outputs": [
    {
     "data": {
      "text/plain": [
       "<tf.Tensor 'MatMul_1:0' shape=(1, 120) dtype=float64>"
      ]
     },
     "execution_count": 13,
     "metadata": {},
     "output_type": "execute_result"
    }
   ],
   "source": [
    "# 全连接层,其实是矩阵运算\n",
    "dense = np.random.randn(500,120)\n",
    "\n",
    "fc = tf.reshape(dropout2,shape = [1,5*5*20])\n",
    "\n",
    "conn = tf.matmul(fc,dense)\n",
    "conn"
   ]
  },
  {
   "cell_type": "code",
   "execution_count": 15,
   "metadata": {},
   "outputs": [
    {
     "data": {
      "text/plain": [
       "<tf.Tensor 'add:0' shape=(1, 9) dtype=float64>"
      ]
     },
     "execution_count": 15,
     "metadata": {},
     "output_type": "execute_result"
    }
   ],
   "source": [
    "# out输出层\n",
    "w = np.random.randn(120,9)\n",
    "\n",
    "b = np.random.randn(9)\n",
    "\n",
    "out = tf.matmul(conn,w) + b\n",
    "\n",
    "out"
   ]
  }
 ],
 "metadata": {
  "kernelspec": {
   "display_name": "Python 3",
   "language": "python",
   "name": "python3"
  },
  "language_info": {
   "codemirror_mode": {
    "name": "ipython",
    "version": 3
   },
   "file_extension": ".py",
   "mimetype": "text/x-python",
   "name": "python",
   "nbconvert_exporter": "python",
   "pygments_lexer": "ipython3",
   "version": "3.7.0"
  }
 },
 "nbformat": 4,
 "nbformat_minor": 2
}
