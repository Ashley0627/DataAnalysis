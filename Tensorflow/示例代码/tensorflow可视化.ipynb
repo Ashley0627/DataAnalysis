{
 "cells": [
  {
   "cell_type": "code",
   "execution_count": 1,
   "metadata": {},
   "outputs": [],
   "source": [
    "import numpy as np\n",
    "\n",
    "import tensorflow as tf"
   ]
  },
  {
   "cell_type": "code",
   "execution_count": 2,
   "metadata": {},
   "outputs": [],
   "source": [
    "with tf.name_scope(name = 'filed') as scope:\n",
    "    m1 = tf.constant(np.random.randint(0,10,size = (2,3)),name = 'm1')\n",
    "    \n",
    "    m2 = tf.constant(np.random.randint(0,10,size = (3,5)),name = 'm2')\n",
    "    \n",
    "    pro = tf.matmul(m1,m2,name = 'product')\n",
    "    \n",
    "sess = tf.Session()\n",
    "\n",
    "# 代码运算怎样进行\n",
    "tf.summary.FileWriter('./logs',sess.graph)\n",
    "\n",
    "sess.run(pro)\n",
    "\n",
    "sess.close()"
   ]
  },
  {
   "cell_type": "code",
   "execution_count": 3,
   "metadata": {},
   "outputs": [
    {
     "name": "stdout",
     "output_type": "stream",
     "text": [
      "WARNING:tensorflow:From D:\\anacondna\\lib\\site-packages\\tensorflow\\python\\framework\\op_def_library.py:263: colocate_with (from tensorflow.python.framework.ops) is deprecated and will be removed in a future version.\n",
      "Instructions for updating:\n",
      "Colocations handled automatically by placer.\n",
      "0 weight: [0.5487457] bias: [-0.04697879]\n",
      "10 weight: [0.42932078] bias: [0.03141615]\n",
      "20 weight: [0.3655892] bias: [0.0652155]\n",
      "30 weight: [0.3332657] bias: [0.08235792]\n",
      "40 weight: [0.3168718] bias: [0.09105223]\n",
      "50 weight: [0.30855706] bias: [0.09546185]\n",
      "60 weight: [0.30434] bias: [0.09769833]\n",
      "70 weight: [0.30220118] bias: [0.09883264]\n",
      "80 weight: [0.3011164] bias: [0.09940794]\n",
      "90 weight: [0.3005662] bias: [0.09969972]\n",
      "100 weight: [0.30028716] bias: [0.09984771]\n"
     ]
    }
   ],
   "source": [
    "import tensorflow as tf\n",
    "import numpy as np\n",
    "\n",
    "## prepare the original data\n",
    "with tf.name_scope('data'):\n",
    "    x_data = np.random.rand(100).astype(np.float32)\n",
    "    y_data = 0.3*x_data+0.1\n",
    "##creat parameters\n",
    "with tf.name_scope('parameters'):\n",
    "    weight = tf.Variable(tf.random_uniform([1],-1.0,1.0),name = 'weight')\n",
    "    bias = tf.Variable(tf.zeros([1]),name = 'bias')\n",
    "##get y_prediction\n",
    "with tf.name_scope('y_prediction'):\n",
    "     y_prediction = weight*x_data+bias\n",
    "##compute the loss\n",
    "with tf.name_scope('loss'):\n",
    "     loss = tf.reduce_mean(tf.square(y_data-y_prediction))\n",
    "##creat optimizer\n",
    "optimizer = tf.train.GradientDescentOptimizer(0.5)\n",
    "#creat train ,minimize the loss\n",
    "with tf.name_scope('train'):\n",
    "     train = optimizer.minimize(loss)\n",
    "#creat init\n",
    "with tf.name_scope('init'):\n",
    "     init = tf.global_variables_initializer()\n",
    "##creat a Session\n",
    "sess = tf.Session()\n",
    "##initialize\n",
    "writer = tf.summary.FileWriter(\"logs/\", sess.graph)\n",
    "sess.run(init)\n",
    "## Loop\n",
    "for step  in  range(101):\n",
    "    sess.run(train)\n",
    "    if step %10==0 :\n",
    "        print(step ,'weight:',sess.run(weight),'bias:',sess.run(bias))\n",
    "        \n",
    "sess.close()"
   ]
  },
  {
   "cell_type": "code",
   "execution_count": null,
   "metadata": {},
   "outputs": [],
   "source": []
  }
 ],
 "metadata": {
  "kernelspec": {
   "display_name": "Python 3",
   "language": "python",
   "name": "python3"
  },
  "language_info": {
   "codemirror_mode": {
    "name": "ipython",
    "version": 3
   },
   "file_extension": ".py",
   "mimetype": "text/x-python",
   "name": "python",
   "nbconvert_exporter": "python",
   "pygments_lexer": "ipython3",
   "version": "3.7.0"
  }
 },
 "nbformat": 4,
 "nbformat_minor": 2
}
