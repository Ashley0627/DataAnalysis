{
 "cells": [
  {
   "cell_type": "code",
   "execution_count": 1,
   "metadata": {},
   "outputs": [],
   "source": [
    "import numpy as np\n",
    "\n",
    "import matplotlib.pyplot as plt\n",
    "%matplotlib inline\n",
    "\n",
    "import tensorflow as tf"
   ]
  },
  {
   "cell_type": "code",
   "execution_count": 2,
   "metadata": {},
   "outputs": [
    {
     "data": {
      "text/plain": [
       "array([[2, 1, 0, 2, 3],\n",
       "       [9, 5, 4, 2, 0],\n",
       "       [2, 3, 4, 5, 6],\n",
       "       [1, 2, 3, 1, 0],\n",
       "       [0, 4, 4, 2, 8]])"
      ]
     },
     "execution_count": 2,
     "metadata": {},
     "output_type": "execute_result"
    }
   ],
   "source": [
    "data = np.array([[2,1,0,2,3],[9,5,4,2,0],[2,3,4,5,6],[1,2,3,1,0],[0,4,4,2,8]])\n",
    "data"
   ]
  },
  {
   "cell_type": "code",
   "execution_count": 3,
   "metadata": {},
   "outputs": [
    {
     "data": {
      "text/plain": [
       "array([[-1,  0,  1],\n",
       "       [-1,  0,  1],\n",
       "       [-1,  0,  1]])"
      ]
     },
     "execution_count": 3,
     "metadata": {},
     "output_type": "execute_result"
    }
   ],
   "source": [
    "filter_ = np.array([[-1,0,1],[-1,0,1],[-1,0,1]])\n",
    "filter_"
   ]
  },
  {
   "cell_type": "code",
   "execution_count": 4,
   "metadata": {},
   "outputs": [
    {
     "name": "stdout",
     "output_type": "stream",
     "text": [
      "[[-5.  0.  1.]\n",
      " [-1. -2. -5.]\n",
      " [ 8. -1.  3.]]\n"
     ]
    }
   ],
   "source": [
    "'''\n",
    "    input,   输入的数据，有格式要求   四维的数据\n",
    "    filter,\n",
    "    strides,\n",
    "    padding,\n",
    "    use_cudnn_on_gpu=True,\n",
    "    data_format='NHWC',\n",
    "    dilations=[1, 1, 1, 1],\n",
    "    name=None,\n",
    "    '''\n",
    "input_data = tf.reshape(data,shape = [1,5,5,1])\n",
    "\n",
    "input_data = tf.cast(input_data,dtype=tf.float32)\n",
    "\n",
    "\n",
    "filter_ = tf.cast(tf.reshape(filter_,shape = [3,3,1,1]),dtype=tf.float32)\n",
    "\n",
    "conv = tf.nn.conv2d(input = input_data,filter=filter_,strides=[1,1,1,1],padding='VALID')\n",
    "conv\n",
    "\n",
    "with tf.Session() as sess:\n",
    "    ret = sess.run(conv)\n",
    "    \n",
    "    print(ret.reshape(3,3))"
   ]
  },
  {
   "cell_type": "code",
   "execution_count": null,
   "metadata": {},
   "outputs": [],
   "source": []
  }
 ],
 "metadata": {
  "kernelspec": {
   "display_name": "Python 3",
   "language": "python",
   "name": "python3"
  },
  "language_info": {
   "codemirror_mode": {
    "name": "ipython",
    "version": 3
   },
   "file_extension": ".py",
   "mimetype": "text/x-python",
   "name": "python",
   "nbconvert_exporter": "python",
   "pygments_lexer": "ipython3",
   "version": "3.7.0"
  }
 },
 "nbformat": 4,
 "nbformat_minor": 2
}
