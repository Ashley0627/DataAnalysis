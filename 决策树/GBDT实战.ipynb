{
 "cells": [
  {
   "cell_type": "code",
   "execution_count": 1,
   "metadata": {},
   "outputs": [],
   "source": [
    "import numpy as np\n",
    "\n",
    "import graphviz\n",
    "\n",
    "from sklearn.ensemble import GradientBoostingRegressor"
   ]
  },
  {
   "cell_type": "code",
   "execution_count": 2,
   "metadata": {},
   "outputs": [],
   "source": [
    "from pandas import Series,DataFrame"
   ]
  },
  {
   "cell_type": "code",
   "execution_count": 3,
   "metadata": {},
   "outputs": [],
   "source": [
    "X = DataFrame({'购物金额':[500,600,1000,1500],'是否回答问题':[0,1,0,1]})\n",
    "\n",
    "y = Series([14,16,24,26])"
   ]
  },
  {
   "cell_type": "code",
   "execution_count": 4,
   "metadata": {},
   "outputs": [
    {
     "data": {
      "text/plain": [
       "GradientBoostingRegressor(alpha=0.9, criterion='friedman_mse', init=None,\n",
       "             learning_rate=0.1, loss='ls', max_depth=3, max_features=None,\n",
       "             max_leaf_nodes=None, min_impurity_decrease=0.0,\n",
       "             min_impurity_split=None, min_samples_leaf=1,\n",
       "             min_samples_split=2, min_weight_fraction_leaf=0.0,\n",
       "             n_estimators=10, presort='auto', random_state=None,\n",
       "             subsample=1.0, verbose=0, warm_start=False)"
      ]
     },
     "execution_count": 4,
     "metadata": {},
     "output_type": "execute_result"
    }
   ],
   "source": [
    "gbdt = GradientBoostingRegressor(n_estimators=10)\n",
    "\n",
    "gbdt.fit(X,y)"
   ]
  },
  {
   "cell_type": "code",
   "execution_count": 5,
   "metadata": {},
   "outputs": [
    {
     "data": {
      "text/plain": [
       "array([16.09207064, 17.39471376, 22.60528624, 23.90792936])"
      ]
     },
     "execution_count": 5,
     "metadata": {},
     "output_type": "execute_result"
    }
   ],
   "source": [
    "gbdt.predict(X)"
   ]
  },
  {
   "cell_type": "code",
   "execution_count": 6,
   "metadata": {
    "collapsed": true
   },
   "outputs": [
    {
     "data": {
      "text/plain": [
       "array([[DecisionTreeRegressor(criterion='friedman_mse', max_depth=3,\n",
       "           max_features=None, max_leaf_nodes=None,\n",
       "           min_impurity_decrease=0.0, min_impurity_split=None,\n",
       "           min_samples_leaf=1, min_samples_split=2,\n",
       "           min_weight_fraction_leaf=0.0, presort='auto',\n",
       "           random_state=<mtrand.RandomState object at 0x0000026CDCA9BF78>,\n",
       "           splitter='best')],\n",
       "       [DecisionTreeRegressor(criterion='friedman_mse', max_depth=3,\n",
       "           max_features=None, max_leaf_nodes=None,\n",
       "           min_impurity_decrease=0.0, min_impurity_split=None,\n",
       "           min_samples_leaf=1, min_samples_split=2,\n",
       "           min_weight_fraction_leaf=0.0, presort='auto',\n",
       "           random_state=<mtrand.RandomState object at 0x0000026CDCA9BF78>,\n",
       "           splitter='best')],\n",
       "       [DecisionTreeRegressor(criterion='friedman_mse', max_depth=3,\n",
       "           max_features=None, max_leaf_nodes=None,\n",
       "           min_impurity_decrease=0.0, min_impurity_split=None,\n",
       "           min_samples_leaf=1, min_samples_split=2,\n",
       "           min_weight_fraction_leaf=0.0, presort='auto',\n",
       "           random_state=<mtrand.RandomState object at 0x0000026CDCA9BF78>,\n",
       "           splitter='best')],\n",
       "       [DecisionTreeRegressor(criterion='friedman_mse', max_depth=3,\n",
       "           max_features=None, max_leaf_nodes=None,\n",
       "           min_impurity_decrease=0.0, min_impurity_split=None,\n",
       "           min_samples_leaf=1, min_samples_split=2,\n",
       "           min_weight_fraction_leaf=0.0, presort='auto',\n",
       "           random_state=<mtrand.RandomState object at 0x0000026CDCA9BF78>,\n",
       "           splitter='best')],\n",
       "       [DecisionTreeRegressor(criterion='friedman_mse', max_depth=3,\n",
       "           max_features=None, max_leaf_nodes=None,\n",
       "           min_impurity_decrease=0.0, min_impurity_split=None,\n",
       "           min_samples_leaf=1, min_samples_split=2,\n",
       "           min_weight_fraction_leaf=0.0, presort='auto',\n",
       "           random_state=<mtrand.RandomState object at 0x0000026CDCA9BF78>,\n",
       "           splitter='best')],\n",
       "       [DecisionTreeRegressor(criterion='friedman_mse', max_depth=3,\n",
       "           max_features=None, max_leaf_nodes=None,\n",
       "           min_impurity_decrease=0.0, min_impurity_split=None,\n",
       "           min_samples_leaf=1, min_samples_split=2,\n",
       "           min_weight_fraction_leaf=0.0, presort='auto',\n",
       "           random_state=<mtrand.RandomState object at 0x0000026CDCA9BF78>,\n",
       "           splitter='best')],\n",
       "       [DecisionTreeRegressor(criterion='friedman_mse', max_depth=3,\n",
       "           max_features=None, max_leaf_nodes=None,\n",
       "           min_impurity_decrease=0.0, min_impurity_split=None,\n",
       "           min_samples_leaf=1, min_samples_split=2,\n",
       "           min_weight_fraction_leaf=0.0, presort='auto',\n",
       "           random_state=<mtrand.RandomState object at 0x0000026CDCA9BF78>,\n",
       "           splitter='best')],\n",
       "       [DecisionTreeRegressor(criterion='friedman_mse', max_depth=3,\n",
       "           max_features=None, max_leaf_nodes=None,\n",
       "           min_impurity_decrease=0.0, min_impurity_split=None,\n",
       "           min_samples_leaf=1, min_samples_split=2,\n",
       "           min_weight_fraction_leaf=0.0, presort='auto',\n",
       "           random_state=<mtrand.RandomState object at 0x0000026CDCA9BF78>,\n",
       "           splitter='best')],\n",
       "       [DecisionTreeRegressor(criterion='friedman_mse', max_depth=3,\n",
       "           max_features=None, max_leaf_nodes=None,\n",
       "           min_impurity_decrease=0.0, min_impurity_split=None,\n",
       "           min_samples_leaf=1, min_samples_split=2,\n",
       "           min_weight_fraction_leaf=0.0, presort='auto',\n",
       "           random_state=<mtrand.RandomState object at 0x0000026CDCA9BF78>,\n",
       "           splitter='best')],\n",
       "       [DecisionTreeRegressor(criterion='friedman_mse', max_depth=3,\n",
       "           max_features=None, max_leaf_nodes=None,\n",
       "           min_impurity_decrease=0.0, min_impurity_split=None,\n",
       "           min_samples_leaf=1, min_samples_split=2,\n",
       "           min_weight_fraction_leaf=0.0, presort='auto',\n",
       "           random_state=<mtrand.RandomState object at 0x0000026CDCA9BF78>,\n",
       "           splitter='best')]], dtype=object)"
      ]
     },
     "execution_count": 6,
     "metadata": {},
     "output_type": "execute_result"
    }
   ],
   "source": [
    "gbdt.estimators_"
   ]
  },
  {
   "cell_type": "code",
   "execution_count": 8,
   "metadata": {},
   "outputs": [],
   "source": [
    "from sklearn import tree"
   ]
  },
  {
   "cell_type": "code",
   "execution_count": 9,
   "metadata": {},
   "outputs": [
    {
     "data": {
      "image/svg+xml": [
       "<?xml version=\"1.0\" encoding=\"UTF-8\" standalone=\"no\"?>\r\n",
       "<!DOCTYPE svg PUBLIC \"-//W3C//DTD SVG 1.1//EN\"\r\n",
       " \"http://www.w3.org/Graphics/SVG/1.1/DTD/svg11.dtd\">\r\n",
       "<!-- Generated by graphviz version 2.38.0 (20140413.2041)\r\n",
       " -->\r\n",
       "<!-- Title: Tree Pages: 1 -->\r\n",
       "<svg width=\"574pt\" height=\"269pt\"\r\n",
       " viewBox=\"0.00 0.00 574.00 269.00\" xmlns=\"http://www.w3.org/2000/svg\" xmlns:xlink=\"http://www.w3.org/1999/xlink\">\r\n",
       "<g id=\"graph0\" class=\"graph\" transform=\"scale(1 1) rotate(0) translate(4 265)\">\r\n",
       "<title>Tree</title>\r\n",
       "<polygon fill=\"white\" stroke=\"none\" points=\"-4,4 -4,-265 570,-265 570,4 -4,4\"/>\r\n",
       "<!-- 0 -->\r\n",
       "<g id=\"node1\" class=\"node\"><title>0</title>\r\n",
       "<polygon fill=\"#e58139\" fill-opacity=\"0.501961\" stroke=\"black\" points=\"350.5,-261 215.5,-261 215.5,-193 350.5,-193 350.5,-261\"/>\r\n",
       "<text text-anchor=\"middle\" x=\"283\" y=\"-245.8\" font-family=\"Times New Roman,serif\" font-size=\"14.00\">购物金额 &lt;= 800.0</text>\r\n",
       "<text text-anchor=\"middle\" x=\"283\" y=\"-230.8\" font-family=\"Times New Roman,serif\" font-size=\"14.00\">friedman_mse = 26.0</text>\r\n",
       "<text text-anchor=\"middle\" x=\"283\" y=\"-215.8\" font-family=\"Times New Roman,serif\" font-size=\"14.00\">samples = 4</text>\r\n",
       "<text text-anchor=\"middle\" x=\"283\" y=\"-200.8\" font-family=\"Times New Roman,serif\" font-size=\"14.00\">value = 0.0</text>\r\n",
       "</g>\r\n",
       "<!-- 1 -->\r\n",
       "<g id=\"node2\" class=\"node\"><title>1</title>\r\n",
       "<polygon fill=\"#e58139\" fill-opacity=\"0.082353\" stroke=\"black\" points=\"274,-157 146,-157 146,-89 274,-89 274,-157\"/>\r\n",
       "<text text-anchor=\"middle\" x=\"210\" y=\"-141.8\" font-family=\"Times New Roman,serif\" font-size=\"14.00\">是否回答问题 &lt;= 0.5</text>\r\n",
       "<text text-anchor=\"middle\" x=\"210\" y=\"-126.8\" font-family=\"Times New Roman,serif\" font-size=\"14.00\">friedman_mse = 1.0</text>\r\n",
       "<text text-anchor=\"middle\" x=\"210\" y=\"-111.8\" font-family=\"Times New Roman,serif\" font-size=\"14.00\">samples = 2</text>\r\n",
       "<text text-anchor=\"middle\" x=\"210\" y=\"-96.8\" font-family=\"Times New Roman,serif\" font-size=\"14.00\">value = &#45;5.0</text>\r\n",
       "</g>\r\n",
       "<!-- 0&#45;&gt;1 -->\r\n",
       "<g id=\"edge1\" class=\"edge\"><title>0&#45;&gt;1</title>\r\n",
       "<path fill=\"none\" stroke=\"black\" d=\"M259.299,-192.884C253.052,-184.154 246.231,-174.625 239.711,-165.514\"/>\r\n",
       "<polygon fill=\"black\" stroke=\"black\" points=\"242.498,-163.394 233.832,-157.299 236.806,-167.468 242.498,-163.394\"/>\r\n",
       "<text text-anchor=\"middle\" x=\"229.745\" y=\"-178.263\" font-family=\"Times New Roman,serif\" font-size=\"14.00\">True</text>\r\n",
       "</g>\r\n",
       "<!-- 4 -->\r\n",
       "<g id=\"node5\" class=\"node\"><title>4</title>\r\n",
       "<polygon fill=\"#e58139\" fill-opacity=\"0.917647\" stroke=\"black\" points=\"420,-157 292,-157 292,-89 420,-89 420,-157\"/>\r\n",
       "<text text-anchor=\"middle\" x=\"356\" y=\"-141.8\" font-family=\"Times New Roman,serif\" font-size=\"14.00\">是否回答问题 &lt;= 0.5</text>\r\n",
       "<text text-anchor=\"middle\" x=\"356\" y=\"-126.8\" font-family=\"Times New Roman,serif\" font-size=\"14.00\">friedman_mse = 1.0</text>\r\n",
       "<text text-anchor=\"middle\" x=\"356\" y=\"-111.8\" font-family=\"Times New Roman,serif\" font-size=\"14.00\">samples = 2</text>\r\n",
       "<text text-anchor=\"middle\" x=\"356\" y=\"-96.8\" font-family=\"Times New Roman,serif\" font-size=\"14.00\">value = 5.0</text>\r\n",
       "</g>\r\n",
       "<!-- 0&#45;&gt;4 -->\r\n",
       "<g id=\"edge4\" class=\"edge\"><title>0&#45;&gt;4</title>\r\n",
       "<path fill=\"none\" stroke=\"black\" d=\"M306.701,-192.884C312.948,-184.154 319.769,-174.625 326.289,-165.514\"/>\r\n",
       "<polygon fill=\"black\" stroke=\"black\" points=\"329.194,-167.468 332.168,-157.299 323.502,-163.394 329.194,-167.468\"/>\r\n",
       "<text text-anchor=\"middle\" x=\"336.255\" y=\"-178.263\" font-family=\"Times New Roman,serif\" font-size=\"14.00\">False</text>\r\n",
       "</g>\r\n",
       "<!-- 2 -->\r\n",
       "<g id=\"node3\" class=\"node\"><title>2</title>\r\n",
       "<polygon fill=\"none\" stroke=\"black\" points=\"128,-53 0,-53 0,-0 128,-0 128,-53\"/>\r\n",
       "<text text-anchor=\"middle\" x=\"64\" y=\"-37.8\" font-family=\"Times New Roman,serif\" font-size=\"14.00\">friedman_mse = 0.0</text>\r\n",
       "<text text-anchor=\"middle\" x=\"64\" y=\"-22.8\" font-family=\"Times New Roman,serif\" font-size=\"14.00\">samples = 1</text>\r\n",
       "<text text-anchor=\"middle\" x=\"64\" y=\"-7.8\" font-family=\"Times New Roman,serif\" font-size=\"14.00\">value = &#45;6.0</text>\r\n",
       "</g>\r\n",
       "<!-- 1&#45;&gt;2 -->\r\n",
       "<g id=\"edge2\" class=\"edge\"><title>1&#45;&gt;2</title>\r\n",
       "<path fill=\"none\" stroke=\"black\" d=\"M158.936,-88.9485C143.814,-79.1601 127.306,-68.4756 112.36,-58.8015\"/>\r\n",
       "<polygon fill=\"black\" stroke=\"black\" points=\"114.059,-55.7322 103.763,-53.2367 110.256,-61.6087 114.059,-55.7322\"/>\r\n",
       "</g>\r\n",
       "<!-- 3 -->\r\n",
       "<g id=\"node4\" class=\"node\"><title>3</title>\r\n",
       "<polygon fill=\"#e58139\" fill-opacity=\"0.164706\" stroke=\"black\" points=\"274,-53 146,-53 146,-0 274,-0 274,-53\"/>\r\n",
       "<text text-anchor=\"middle\" x=\"210\" y=\"-37.8\" font-family=\"Times New Roman,serif\" font-size=\"14.00\">friedman_mse = 0.0</text>\r\n",
       "<text text-anchor=\"middle\" x=\"210\" y=\"-22.8\" font-family=\"Times New Roman,serif\" font-size=\"14.00\">samples = 1</text>\r\n",
       "<text text-anchor=\"middle\" x=\"210\" y=\"-7.8\" font-family=\"Times New Roman,serif\" font-size=\"14.00\">value = &#45;4.0</text>\r\n",
       "</g>\r\n",
       "<!-- 1&#45;&gt;3 -->\r\n",
       "<g id=\"edge3\" class=\"edge\"><title>1&#45;&gt;3</title>\r\n",
       "<path fill=\"none\" stroke=\"black\" d=\"M210,-88.9485C210,-80.7153 210,-71.848 210,-63.4814\"/>\r\n",
       "<polygon fill=\"black\" stroke=\"black\" points=\"213.5,-63.2367 210,-53.2367 206.5,-63.2367 213.5,-63.2367\"/>\r\n",
       "</g>\r\n",
       "<!-- 5 -->\r\n",
       "<g id=\"node6\" class=\"node\"><title>5</title>\r\n",
       "<polygon fill=\"#e58139\" fill-opacity=\"0.831373\" stroke=\"black\" points=\"420,-53 292,-53 292,-0 420,-0 420,-53\"/>\r\n",
       "<text text-anchor=\"middle\" x=\"356\" y=\"-37.8\" font-family=\"Times New Roman,serif\" font-size=\"14.00\">friedman_mse = 0.0</text>\r\n",
       "<text text-anchor=\"middle\" x=\"356\" y=\"-22.8\" font-family=\"Times New Roman,serif\" font-size=\"14.00\">samples = 1</text>\r\n",
       "<text text-anchor=\"middle\" x=\"356\" y=\"-7.8\" font-family=\"Times New Roman,serif\" font-size=\"14.00\">value = 4.0</text>\r\n",
       "</g>\r\n",
       "<!-- 4&#45;&gt;5 -->\r\n",
       "<g id=\"edge5\" class=\"edge\"><title>4&#45;&gt;5</title>\r\n",
       "<path fill=\"none\" stroke=\"black\" d=\"M356,-88.9485C356,-80.7153 356,-71.848 356,-63.4814\"/>\r\n",
       "<polygon fill=\"black\" stroke=\"black\" points=\"359.5,-63.2367 356,-53.2367 352.5,-63.2367 359.5,-63.2367\"/>\r\n",
       "</g>\r\n",
       "<!-- 6 -->\r\n",
       "<g id=\"node7\" class=\"node\"><title>6</title>\r\n",
       "<polygon fill=\"#e58139\" stroke=\"black\" points=\"566,-53 438,-53 438,-0 566,-0 566,-53\"/>\r\n",
       "<text text-anchor=\"middle\" x=\"502\" y=\"-37.8\" font-family=\"Times New Roman,serif\" font-size=\"14.00\">friedman_mse = 0.0</text>\r\n",
       "<text text-anchor=\"middle\" x=\"502\" y=\"-22.8\" font-family=\"Times New Roman,serif\" font-size=\"14.00\">samples = 1</text>\r\n",
       "<text text-anchor=\"middle\" x=\"502\" y=\"-7.8\" font-family=\"Times New Roman,serif\" font-size=\"14.00\">value = 6.0</text>\r\n",
       "</g>\r\n",
       "<!-- 4&#45;&gt;6 -->\r\n",
       "<g id=\"edge6\" class=\"edge\"><title>4&#45;&gt;6</title>\r\n",
       "<path fill=\"none\" stroke=\"black\" d=\"M407.064,-88.9485C422.186,-79.1601 438.694,-68.4756 453.64,-58.8015\"/>\r\n",
       "<polygon fill=\"black\" stroke=\"black\" points=\"455.744,-61.6087 462.237,-53.2367 451.941,-55.7322 455.744,-61.6087\"/>\r\n",
       "</g>\r\n",
       "</g>\r\n",
       "</svg>\r\n"
      ],
      "text/plain": [
       "<graphviz.files.Source at 0x26ce0b1edd8>"
      ]
     },
     "execution_count": 9,
     "metadata": {},
     "output_type": "execute_result"
    }
   ],
   "source": [
    "dot = tree.export_graphviz(gbdt[0,0],out_file=None,feature_names=X.columns,filled=True)\n",
    "\n",
    "graphviz.Source(dot)"
   ]
  },
  {
   "cell_type": "code",
   "execution_count": 11,
   "metadata": {},
   "outputs": [
    {
     "data": {
      "image/svg+xml": [
       "<?xml version=\"1.0\" encoding=\"UTF-8\" standalone=\"no\"?>\r\n",
       "<!DOCTYPE svg PUBLIC \"-//W3C//DTD SVG 1.1//EN\"\r\n",
       " \"http://www.w3.org/Graphics/SVG/1.1/DTD/svg11.dtd\">\r\n",
       "<!-- Generated by graphviz version 2.38.0 (20140413.2041)\r\n",
       " -->\r\n",
       "<!-- Title: Tree Pages: 1 -->\r\n",
       "<svg width=\"577pt\" height=\"269pt\"\r\n",
       " viewBox=\"0.00 0.00 577.00 269.00\" xmlns=\"http://www.w3.org/2000/svg\" xmlns:xlink=\"http://www.w3.org/1999/xlink\">\r\n",
       "<g id=\"graph0\" class=\"graph\" transform=\"scale(1 1) rotate(0) translate(4 265)\">\r\n",
       "<title>Tree</title>\r\n",
       "<polygon fill=\"white\" stroke=\"none\" points=\"-4,4 -4,-265 573,-265 573,4 -4,4\"/>\r\n",
       "<!-- 0 -->\r\n",
       "<g id=\"node1\" class=\"node\"><title>0</title>\r\n",
       "<polygon fill=\"#e58139\" fill-opacity=\"0.501961\" stroke=\"black\" points=\"355,-261 213,-261 213,-193 355,-193 355,-261\"/>\r\n",
       "<text text-anchor=\"middle\" x=\"284\" y=\"-245.8\" font-family=\"Times New Roman,serif\" font-size=\"14.00\">购物金额 &lt;= 800.0</text>\r\n",
       "<text text-anchor=\"middle\" x=\"284\" y=\"-230.8\" font-family=\"Times New Roman,serif\" font-size=\"14.00\">friedman_mse = 21.06</text>\r\n",
       "<text text-anchor=\"middle\" x=\"284\" y=\"-215.8\" font-family=\"Times New Roman,serif\" font-size=\"14.00\">samples = 4</text>\r\n",
       "<text text-anchor=\"middle\" x=\"284\" y=\"-200.8\" font-family=\"Times New Roman,serif\" font-size=\"14.00\">value = 0.0</text>\r\n",
       "</g>\r\n",
       "<!-- 1 -->\r\n",
       "<g id=\"node2\" class=\"node\"><title>1</title>\r\n",
       "<polygon fill=\"#e58139\" fill-opacity=\"0.082353\" stroke=\"black\" points=\"275.5,-157 140.5,-157 140.5,-89 275.5,-89 275.5,-157\"/>\r\n",
       "<text text-anchor=\"middle\" x=\"208\" y=\"-141.8\" font-family=\"Times New Roman,serif\" font-size=\"14.00\">是否回答问题 &lt;= 0.5</text>\r\n",
       "<text text-anchor=\"middle\" x=\"208\" y=\"-126.8\" font-family=\"Times New Roman,serif\" font-size=\"14.00\">friedman_mse = 0.81</text>\r\n",
       "<text text-anchor=\"middle\" x=\"208\" y=\"-111.8\" font-family=\"Times New Roman,serif\" font-size=\"14.00\">samples = 2</text>\r\n",
       "<text text-anchor=\"middle\" x=\"208\" y=\"-96.8\" font-family=\"Times New Roman,serif\" font-size=\"14.00\">value = &#45;4.5</text>\r\n",
       "</g>\r\n",
       "<!-- 0&#45;&gt;1 -->\r\n",
       "<g id=\"edge1\" class=\"edge\"><title>0&#45;&gt;1</title>\r\n",
       "<path fill=\"none\" stroke=\"black\" d=\"M259.325,-192.884C252.821,-184.154 245.72,-174.625 238.932,-165.514\"/>\r\n",
       "<polygon fill=\"black\" stroke=\"black\" points=\"241.593,-163.227 232.811,-157.299 235.98,-167.409 241.593,-163.227\"/>\r\n",
       "<text text-anchor=\"middle\" x=\"229.198\" y=\"-178.337\" font-family=\"Times New Roman,serif\" font-size=\"14.00\">True</text>\r\n",
       "</g>\r\n",
       "<!-- 4 -->\r\n",
       "<g id=\"node5\" class=\"node\"><title>4</title>\r\n",
       "<polygon fill=\"#e58139\" fill-opacity=\"0.917647\" stroke=\"black\" points=\"428.5,-157 293.5,-157 293.5,-89 428.5,-89 428.5,-157\"/>\r\n",
       "<text text-anchor=\"middle\" x=\"361\" y=\"-141.8\" font-family=\"Times New Roman,serif\" font-size=\"14.00\">购物金额 &lt;= 1250.0</text>\r\n",
       "<text text-anchor=\"middle\" x=\"361\" y=\"-126.8\" font-family=\"Times New Roman,serif\" font-size=\"14.00\">friedman_mse = 0.81</text>\r\n",
       "<text text-anchor=\"middle\" x=\"361\" y=\"-111.8\" font-family=\"Times New Roman,serif\" font-size=\"14.00\">samples = 2</text>\r\n",
       "<text text-anchor=\"middle\" x=\"361\" y=\"-96.8\" font-family=\"Times New Roman,serif\" font-size=\"14.00\">value = 4.5</text>\r\n",
       "</g>\r\n",
       "<!-- 0&#45;&gt;4 -->\r\n",
       "<g id=\"edge4\" class=\"edge\"><title>0&#45;&gt;4</title>\r\n",
       "<path fill=\"none\" stroke=\"black\" d=\"M309,-192.884C315.589,-184.154 322.783,-174.625 329.661,-165.514\"/>\r\n",
       "<polygon fill=\"black\" stroke=\"black\" points=\"332.631,-167.389 335.862,-157.299 327.044,-163.172 332.631,-167.389\"/>\r\n",
       "<text text-anchor=\"middle\" x=\"339.32\" y=\"-178.359\" font-family=\"Times New Roman,serif\" font-size=\"14.00\">False</text>\r\n",
       "</g>\r\n",
       "<!-- 2 -->\r\n",
       "<g id=\"node3\" class=\"node\"><title>2</title>\r\n",
       "<polygon fill=\"none\" stroke=\"black\" points=\"128,-53 0,-53 0,-0 128,-0 128,-53\"/>\r\n",
       "<text text-anchor=\"middle\" x=\"64\" y=\"-37.8\" font-family=\"Times New Roman,serif\" font-size=\"14.00\">friedman_mse = 0.0</text>\r\n",
       "<text text-anchor=\"middle\" x=\"64\" y=\"-22.8\" font-family=\"Times New Roman,serif\" font-size=\"14.00\">samples = 1</text>\r\n",
       "<text text-anchor=\"middle\" x=\"64\" y=\"-7.8\" font-family=\"Times New Roman,serif\" font-size=\"14.00\">value = &#45;5.4</text>\r\n",
       "</g>\r\n",
       "<!-- 1&#45;&gt;2 -->\r\n",
       "<g id=\"edge2\" class=\"edge\"><title>1&#45;&gt;2</title>\r\n",
       "<path fill=\"none\" stroke=\"black\" d=\"M157.636,-88.9485C142.72,-79.1601 126.439,-68.4756 111.697,-58.8015\"/>\r\n",
       "<polygon fill=\"black\" stroke=\"black\" points=\"113.499,-55.7971 103.218,-53.2367 109.658,-61.6495 113.499,-55.7971\"/>\r\n",
       "</g>\r\n",
       "<!-- 3 -->\r\n",
       "<g id=\"node4\" class=\"node\"><title>3</title>\r\n",
       "<polygon fill=\"#e58139\" fill-opacity=\"0.164706\" stroke=\"black\" points=\"274,-53 146,-53 146,-0 274,-0 274,-53\"/>\r\n",
       "<text text-anchor=\"middle\" x=\"210\" y=\"-37.8\" font-family=\"Times New Roman,serif\" font-size=\"14.00\">friedman_mse = 0.0</text>\r\n",
       "<text text-anchor=\"middle\" x=\"210\" y=\"-22.8\" font-family=\"Times New Roman,serif\" font-size=\"14.00\">samples = 1</text>\r\n",
       "<text text-anchor=\"middle\" x=\"210\" y=\"-7.8\" font-family=\"Times New Roman,serif\" font-size=\"14.00\">value = &#45;3.6</text>\r\n",
       "</g>\r\n",
       "<!-- 1&#45;&gt;3 -->\r\n",
       "<g id=\"edge3\" class=\"edge\"><title>1&#45;&gt;3</title>\r\n",
       "<path fill=\"none\" stroke=\"black\" d=\"M208.7,-88.9485C208.874,-80.7153 209.061,-71.848 209.238,-63.4814\"/>\r\n",
       "<polygon fill=\"black\" stroke=\"black\" points=\"212.743,-63.3086 209.455,-53.2367 205.744,-63.1604 212.743,-63.3086\"/>\r\n",
       "</g>\r\n",
       "<!-- 5 -->\r\n",
       "<g id=\"node6\" class=\"node\"><title>5</title>\r\n",
       "<polygon fill=\"#e58139\" fill-opacity=\"0.835294\" stroke=\"black\" points=\"423,-53 295,-53 295,-0 423,-0 423,-53\"/>\r\n",
       "<text text-anchor=\"middle\" x=\"359\" y=\"-37.8\" font-family=\"Times New Roman,serif\" font-size=\"14.00\">friedman_mse = 0.0</text>\r\n",
       "<text text-anchor=\"middle\" x=\"359\" y=\"-22.8\" font-family=\"Times New Roman,serif\" font-size=\"14.00\">samples = 1</text>\r\n",
       "<text text-anchor=\"middle\" x=\"359\" y=\"-7.8\" font-family=\"Times New Roman,serif\" font-size=\"14.00\">value = 3.6</text>\r\n",
       "</g>\r\n",
       "<!-- 4&#45;&gt;5 -->\r\n",
       "<g id=\"edge5\" class=\"edge\"><title>4&#45;&gt;5</title>\r\n",
       "<path fill=\"none\" stroke=\"black\" d=\"M360.3,-88.9485C360.126,-80.7153 359.939,-71.848 359.762,-63.4814\"/>\r\n",
       "<polygon fill=\"black\" stroke=\"black\" points=\"363.256,-63.1604 359.545,-53.2367 356.257,-63.3086 363.256,-63.1604\"/>\r\n",
       "</g>\r\n",
       "<!-- 6 -->\r\n",
       "<g id=\"node7\" class=\"node\"><title>6</title>\r\n",
       "<polygon fill=\"#e58139\" stroke=\"black\" points=\"569,-53 441,-53 441,-0 569,-0 569,-53\"/>\r\n",
       "<text text-anchor=\"middle\" x=\"505\" y=\"-37.8\" font-family=\"Times New Roman,serif\" font-size=\"14.00\">friedman_mse = 0.0</text>\r\n",
       "<text text-anchor=\"middle\" x=\"505\" y=\"-22.8\" font-family=\"Times New Roman,serif\" font-size=\"14.00\">samples = 1</text>\r\n",
       "<text text-anchor=\"middle\" x=\"505\" y=\"-7.8\" font-family=\"Times New Roman,serif\" font-size=\"14.00\">value = 5.4</text>\r\n",
       "</g>\r\n",
       "<!-- 4&#45;&gt;6 -->\r\n",
       "<g id=\"edge6\" class=\"edge\"><title>4&#45;&gt;6</title>\r\n",
       "<path fill=\"none\" stroke=\"black\" d=\"M411.364,-88.9485C426.28,-79.1601 442.561,-68.4756 457.303,-58.8015\"/>\r\n",
       "<polygon fill=\"black\" stroke=\"black\" points=\"459.342,-61.6495 465.782,-53.2367 455.501,-55.7971 459.342,-61.6495\"/>\r\n",
       "</g>\r\n",
       "</g>\r\n",
       "</svg>\r\n"
      ],
      "text/plain": [
       "<graphviz.files.Source at 0x26ce0eff3c8>"
      ]
     },
     "execution_count": 11,
     "metadata": {},
     "output_type": "execute_result"
    }
   ],
   "source": [
    "dot = tree.export_graphviz(gbdt[1,0],out_file=None,feature_names=X.columns,filled=True)\n",
    "\n",
    "graphviz.Source(dot)"
   ]
  },
  {
   "cell_type": "code",
   "execution_count": null,
   "metadata": {},
   "outputs": [],
   "source": []
  }
 ],
 "metadata": {
  "kernelspec": {
   "display_name": "Python 3",
   "language": "python",
   "name": "python3"
  },
  "language_info": {
   "codemirror_mode": {
    "name": "ipython",
    "version": 3
   },
   "file_extension": ".py",
   "mimetype": "text/x-python",
   "name": "python",
   "nbconvert_exporter": "python",
   "pygments_lexer": "ipython3",
   "version": "3.7.0"
  }
 },
 "nbformat": 4,
 "nbformat_minor": 2
}
