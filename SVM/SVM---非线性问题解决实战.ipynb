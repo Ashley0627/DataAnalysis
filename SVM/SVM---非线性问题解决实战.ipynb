{
 "cells": [
  {
   "cell_type": "code",
   "execution_count": 1,
   "metadata": {},
   "outputs": [],
   "source": [
    "import numpy as np\n",
    "\n",
    "import matplotlib.pyplot as plt\n",
    "%matplotlib inline"
   ]
  },
  {
   "cell_type": "code",
   "execution_count": 2,
   "metadata": {},
   "outputs": [],
   "source": [
    "from sklearn.svm import SVR"
   ]
  },
  {
   "cell_type": "code",
   "execution_count": 3,
   "metadata": {},
   "outputs": [],
   "source": [
    "X = np.linspace(-5,5,30).reshape(-1,1)"
   ]
  },
  {
   "cell_type": "code",
   "execution_count": 13,
   "metadata": {},
   "outputs": [],
   "source": [
    "y = (X-3)**2 + 3*X -10"
   ]
  },
  {
   "cell_type": "code",
   "execution_count": 14,
   "metadata": {},
   "outputs": [],
   "source": [
    "from sklearn.linear_model import LinearRegression"
   ]
  },
  {
   "cell_type": "code",
   "execution_count": 15,
   "metadata": {},
   "outputs": [
    {
     "data": {
      "text/plain": [
       "LinearRegression(copy_X=True, fit_intercept=True, n_jobs=1, normalize=False)"
      ]
     },
     "execution_count": 15,
     "metadata": {},
     "output_type": "execute_result"
    }
   ],
   "source": [
    "lr = LinearRegression()\n",
    "\n",
    "lr.fit(X,y)"
   ]
  },
  {
   "cell_type": "code",
   "execution_count": 16,
   "metadata": {},
   "outputs": [
    {
     "data": {
      "text/plain": [
       "array([[-5.        ],\n",
       "       [-4.92248062],\n",
       "       [-4.84496124],\n",
       "       [-4.76744186],\n",
       "       [-4.68992248],\n",
       "       [-4.6124031 ],\n",
       "       [-4.53488372],\n",
       "       [-4.45736434],\n",
       "       [-4.37984496],\n",
       "       [-4.30232558],\n",
       "       [-4.2248062 ],\n",
       "       [-4.14728682],\n",
       "       [-4.06976744],\n",
       "       [-3.99224806],\n",
       "       [-3.91472868],\n",
       "       [-3.8372093 ],\n",
       "       [-3.75968992],\n",
       "       [-3.68217054],\n",
       "       [-3.60465116],\n",
       "       [-3.52713178],\n",
       "       [-3.4496124 ],\n",
       "       [-3.37209302],\n",
       "       [-3.29457364],\n",
       "       [-3.21705426],\n",
       "       [-3.13953488],\n",
       "       [-3.0620155 ],\n",
       "       [-2.98449612],\n",
       "       [-2.90697674],\n",
       "       [-2.82945736],\n",
       "       [-2.75193798],\n",
       "       [-2.6744186 ],\n",
       "       [-2.59689922],\n",
       "       [-2.51937984],\n",
       "       [-2.44186047],\n",
       "       [-2.36434109],\n",
       "       [-2.28682171],\n",
       "       [-2.20930233],\n",
       "       [-2.13178295],\n",
       "       [-2.05426357],\n",
       "       [-1.97674419],\n",
       "       [-1.89922481],\n",
       "       [-1.82170543],\n",
       "       [-1.74418605],\n",
       "       [-1.66666667],\n",
       "       [-1.58914729],\n",
       "       [-1.51162791],\n",
       "       [-1.43410853],\n",
       "       [-1.35658915],\n",
       "       [-1.27906977],\n",
       "       [-1.20155039],\n",
       "       [-1.12403101],\n",
       "       [-1.04651163],\n",
       "       [-0.96899225],\n",
       "       [-0.89147287],\n",
       "       [-0.81395349],\n",
       "       [-0.73643411],\n",
       "       [-0.65891473],\n",
       "       [-0.58139535],\n",
       "       [-0.50387597],\n",
       "       [-0.42635659],\n",
       "       [-0.34883721],\n",
       "       [-0.27131783],\n",
       "       [-0.19379845],\n",
       "       [-0.11627907],\n",
       "       [-0.03875969],\n",
       "       [ 0.03875969],\n",
       "       [ 0.11627907],\n",
       "       [ 0.19379845],\n",
       "       [ 0.27131783],\n",
       "       [ 0.34883721],\n",
       "       [ 0.42635659],\n",
       "       [ 0.50387597],\n",
       "       [ 0.58139535],\n",
       "       [ 0.65891473],\n",
       "       [ 0.73643411],\n",
       "       [ 0.81395349],\n",
       "       [ 0.89147287],\n",
       "       [ 0.96899225],\n",
       "       [ 1.04651163],\n",
       "       [ 1.12403101],\n",
       "       [ 1.20155039],\n",
       "       [ 1.27906977],\n",
       "       [ 1.35658915],\n",
       "       [ 1.43410853],\n",
       "       [ 1.51162791],\n",
       "       [ 1.58914729],\n",
       "       [ 1.66666667],\n",
       "       [ 1.74418605],\n",
       "       [ 1.82170543],\n",
       "       [ 1.89922481],\n",
       "       [ 1.97674419],\n",
       "       [ 2.05426357],\n",
       "       [ 2.13178295],\n",
       "       [ 2.20930233],\n",
       "       [ 2.28682171],\n",
       "       [ 2.36434109],\n",
       "       [ 2.44186047],\n",
       "       [ 2.51937984],\n",
       "       [ 2.59689922],\n",
       "       [ 2.6744186 ],\n",
       "       [ 2.75193798],\n",
       "       [ 2.82945736],\n",
       "       [ 2.90697674],\n",
       "       [ 2.98449612],\n",
       "       [ 3.0620155 ],\n",
       "       [ 3.13953488],\n",
       "       [ 3.21705426],\n",
       "       [ 3.29457364],\n",
       "       [ 3.37209302],\n",
       "       [ 3.4496124 ],\n",
       "       [ 3.52713178],\n",
       "       [ 3.60465116],\n",
       "       [ 3.68217054],\n",
       "       [ 3.75968992],\n",
       "       [ 3.8372093 ],\n",
       "       [ 3.91472868],\n",
       "       [ 3.99224806],\n",
       "       [ 4.06976744],\n",
       "       [ 4.14728682],\n",
       "       [ 4.2248062 ],\n",
       "       [ 4.30232558],\n",
       "       [ 4.37984496],\n",
       "       [ 4.45736434],\n",
       "       [ 4.53488372],\n",
       "       [ 4.6124031 ],\n",
       "       [ 4.68992248],\n",
       "       [ 4.76744186],\n",
       "       [ 4.84496124],\n",
       "       [ 4.92248062],\n",
       "       [ 5.        ]])"
      ]
     },
     "execution_count": 16,
     "metadata": {},
     "output_type": "execute_result"
    }
   ],
   "source": [
    "X_test = np.linspace(-5,5,130).reshape(-1,1)\n",
    "X_test"
   ]
  },
  {
   "cell_type": "code",
   "execution_count": 17,
   "metadata": {},
   "outputs": [],
   "source": [
    "y_ = lr.predict(X_test)"
   ]
  },
  {
   "cell_type": "code",
   "execution_count": 18,
   "metadata": {},
   "outputs": [
    {
     "data": {
      "text/plain": [
       "[<matplotlib.lines.Line2D at 0x2ce71f96208>]"
      ]
     },
     "execution_count": 18,
     "metadata": {},
     "output_type": "execute_result"
    },
    {
     "data": {
      "image/png": "[encoded data removed]",
      "text/plain": [
       "<Figure size 432x288 with 1 Axes>"
      ]
     },
     "metadata": {
      "needs_background": "light"
     },
     "output_type": "display_data"
    }
   ],
   "source": [
    "plt.scatter(X,y)\n",
    "\n",
    "plt.plot(X_test,y_,c = 'r')"
   ]
  },
  {
   "cell_type": "code",
   "execution_count": 20,
   "metadata": {},
   "outputs": [
    {
     "name": "stderr",
     "output_type": "stream",
     "text": [
      "D:\\anacondna\\lib\\site-packages\\sklearn\\utils\\validation.py:578: DataConversionWarning: A column-vector y was passed when a 1d array was expected. Please change the shape of y to (n_samples, ), for example using ravel().\n",
      "  y = column_or_1d(y, warn=True)\n"
     ]
    }
   ],
   "source": [
    "svr = SVR(kernel='poly',degree=2)\n",
    "\n",
    "svr.fit(X,y)\n",
    "\n",
    "y_ = svr.predict(X_test)"
   ]
  },
  {
   "cell_type": "code",
   "execution_count": 21,
   "metadata": {},
   "outputs": [
    {
     "data": {
      "text/plain": [
       "[<matplotlib.lines.Line2D at 0x2ce71fc3208>]"
      ]
     },
     "execution_count": 21,
     "metadata": {},
     "output_type": "execute_result"
    },
    {
     "data": {
      "image/png": "[encoded data removed]",
      "text/plain": [
       "<Figure size 432x288 with 1 Axes>"
      ]
     },
     "metadata": {
      "needs_background": "light"
     },
     "output_type": "display_data"
    }
   ],
   "source": [
    "plt.scatter(X,y)\n",
    "\n",
    "plt.plot(X_test,y_,c = 'green')"
   ]
  },
  {
   "cell_type": "code",
   "execution_count": null,
   "metadata": {},
   "outputs": [],
   "source": []
  },
  {
   "cell_type": "code",
   "execution_count": null,
   "metadata": {},
   "outputs": [],
   "source": []
  }
 ],
 "metadata": {
  "kernelspec": {
   "display_name": "Python 3",
   "language": "python",
   "name": "python3"
  },
  "language_info": {
   "codemirror_mode": {
    "name": "ipython",
    "version": 3
   },
   "file_extension": ".py",
   "mimetype": "text/x-python",
   "name": "python",
   "nbconvert_exporter": "python",
   "pygments_lexer": "ipython3",
   "version": "3.7.0"
  }
 },
 "nbformat": 4,
 "nbformat_minor": 2
}
